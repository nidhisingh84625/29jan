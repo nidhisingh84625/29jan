{
 "cells": [
  {
   "cell_type": "markdown",
   "id": "ad8593f8-02c6-4b12-82ec-01f686d5e383",
   "metadata": {},
   "source": [
    "# Q1. Who developed Python Programming Langusge?\n"
   ]
  },
  {
   "cell_type": "markdown",
   "id": "9d749506-e496-4f3a-82fd-02fccdf8ab68",
   "metadata": {},
   "source": [
    "Python was created by Guido van Rossum, and first released on February 20, 1991. While you may know the python as a large snake, the name of the Python programming language comes from an old BBC television comedy sketch series called Monty Python's Flying Circus."
   ]
  },
  {
   "cell_type": "markdown",
   "id": "ea773bda-8ba4-4676-8756-88ec13a5936b",
   "metadata": {},
   "source": [
    "# Q2. Which type of programming does Python support?"
   ]
  },
  {
   "cell_type": "markdown",
   "id": "375ffcae-e3ea-407f-8a74-d54f8424a2d2",
   "metadata": {},
   "source": [
    "Python is a multi-paradigm programming language. Object-oriented programming and structured programming are fully supported, and many of their features support functional programming and aspect-oriented programming (including metaprogramming and metaobjects)."
   ]
  },
  {
   "cell_type": "markdown",
   "id": "bf6b3f6b-7b44-4734-890e-1e6a9e3de32c",
   "metadata": {},
   "source": [
    "# Q3. Is python case sensitive when dealing with identifiers?"
   ]
  },
  {
   "cell_type": "markdown",
   "id": "7925a419-f5c4-4f5b-90c0-a9cf78b7ea9e",
   "metadata": {},
   "source": [
    "Yes, Python is a case-sensitive language, so identifiers are case-sensitive. That is, it considers uppercase and lowercase characters differently. The property is useful while naming identifiers to make the code more readable and maintainable."
   ]
  },
  {
   "cell_type": "markdown",
   "id": "ec0bbf8c-e699-4ee3-ae8c-df9d6bb5e9be",
   "metadata": {},
   "source": [
    "# Q4. What is the correct extension of the python file?"
   ]
  },
  {
   "cell_type": "markdown",
   "id": "f64b2f95-2549-4167-9265-71fcaca8bc67",
   "metadata": {},
   "source": [
    "Python is a widely used programming or coding language used for different purposes. The extensions for Python files are .py.\n"
   ]
  },
  {
   "cell_type": "markdown",
   "id": "0ee5766d-8a83-4fe4-a658-ae9f5e87ed80",
   "metadata": {},
   "source": [
    "# Q5. Is python code compiled or interpreted?"
   ]
  },
  {
   "cell_type": "markdown",
   "id": "93217fd7-0c17-4ad2-9433-6b8ffccb715e",
   "metadata": {},
   "source": [
    "Python is an interpreted language, which means the source code of a Python program is converted into bytecode that is then executed by the Python virtual machine."
   ]
  },
  {
   "cell_type": "markdown",
   "id": "0a30ffec-eec7-42f4-971f-d21736507e37",
   "metadata": {},
   "source": [
    "# Q6. Name a few blocks of code used to define in Python language?"
   ]
  },
  {
   "cell_type": "markdown",
   "id": "dc83e83f-0388-4921-aa55-4b4ffd9dabc6",
   "metadata": {},
   "source": [
    "A Python program is constructed from code blocks. A block is a piece of Python program text that is executed as a unit. The following are blocks: a module, a function body, and a class definition."
   ]
  },
  {
   "cell_type": "markdown",
   "id": "af4f86c3-1301-4111-a091-23ed55b0482e",
   "metadata": {},
   "source": [
    "# Q7. State a character used to give single line comments in Python?"
   ]
  },
  {
   "cell_type": "markdown",
   "id": "f8af6275-afdc-43ea-a83c-9f9510fe309b",
   "metadata": {},
   "source": [
    "We can use the # character to write the comment in python."
   ]
  },
  {
   "cell_type": "markdown",
   "id": "373a3c60-6da3-4d3a-8c71-f61d834df182",
   "metadata": {},
   "source": [
    "# Q8. Mention functions which can help us to find the version of python that we are currently working on?"
   ]
  },
  {
   "cell_type": "markdown",
   "id": "de4261e3-16de-4341-b7ae-99ca7baa75bf",
   "metadata": {},
   "source": [
    "The function sys. version can help us to find the version of python that we are currently working on."
   ]
  },
  {
   "cell_type": "markdown",
   "id": "cad4f19b-7d98-4459-ae6a-b873348e0557",
   "metadata": {},
   "source": [
    "# Q9. Python supports the creation of anonymous functions at runtime, using a construct called______________."
   ]
  },
  {
   "cell_type": "markdown",
   "id": "3b3528ae-a4f2-4acf-b5bf-04eadf4004c3",
   "metadata": {},
   "source": [
    "lambda"
   ]
  },
  {
   "cell_type": "markdown",
   "id": "0a4a6aa9-624d-4268-b06d-1d59c5454fc7",
   "metadata": {},
   "source": [
    "# Q10. What does pip stand for python?"
   ]
  },
  {
   "cell_type": "markdown",
   "id": "42544f97-03e0-4b67-8e10-d9d491d4cba1",
   "metadata": {},
   "source": [
    "PIP is a recursive acronym for “Preferred Installer Program” or PIP Installs Packages. It is a command-line utility that installs, reinstalls, or uninstalls PyPI packages with one simple command: pip."
   ]
  },
  {
   "cell_type": "markdown",
   "id": "df2a2ce5-d818-4551-995b-3afd3473557e",
   "metadata": {},
   "source": [
    "# Q11. Mention a few build-in functions in Python?"
   ]
  },
  {
   "cell_type": "markdown",
   "id": "464c6baf-c224-45e4-a598-d6105dfa7a32",
   "metadata": {},
   "source": [
    "These are few build-in function in Python.\n",
    "print()\t\n",
    "len()\t\n",
    "range()\t\n",
    "str()\t\n",
    "int()\t\n",
    "float()\t\n",
    "max()\n",
    "min()\n",
    "sorted()\t\n",
    "type()\t\n",
    "input()\t\n",
    "sum()"
   ]
  },
  {
   "cell_type": "markdown",
   "id": "8660dbea-8e2d-4df0-bea8-e89564b24ae7",
   "metadata": {},
   "source": [
    "# Q12. What is the maximum possible length of an identifier in Python?"
   ]
  },
  {
   "cell_type": "markdown",
   "id": "15953123-4386-4d70-ba3d-50b4f4ac6650",
   "metadata": {},
   "source": [
    "An identifier can have a maximum length of 79 characters in Python."
   ]
  },
  {
   "cell_type": "markdown",
   "id": "842b3cee-c7c3-422d-8d08-fa01465f2a01",
   "metadata": {},
   "source": [
    "# Q13. What are the benefits of using Python?"
   ]
  },
  {
   "cell_type": "markdown",
   "id": "2df0dbad-bec6-4e66-959d-9735073ebbe7",
   "metadata": {},
   "source": [
    "Advantages of Python:\n",
    "    1. Easy to Read, Learn and Write\n",
    "    2. Interpreted Language\n",
    "    3. Free and Open-Source\n",
    "    4. Portability\n",
    "    5. Vast Libraries Support\n",
    "    6. Improved Productivity"
   ]
  },
  {
   "cell_type": "markdown",
   "id": "680a2b8d-43c1-4c2e-8e71-84e95879f9e3",
   "metadata": {},
   "source": [
    "# Q14. How is memory managed in Python?"
   ]
  },
  {
   "cell_type": "markdown",
   "id": "5e261f10-c063-4bc0-a6cd-7f7a979dada3",
   "metadata": {},
   "source": [
    "The Python memory is primarily managed by Python private heap space. All Python objects and data structures are located in a private heap. The programmer does not have access to this private heap and interpreter takes care of this Python private heap."
   ]
  },
  {
   "cell_type": "markdown",
   "id": "b3716db6-2b5d-4a2b-b7b1-456155ece8be",
   "metadata": {},
   "source": [
    "# Q15. How to install python on windows and set path variables?"
   ]
  },
  {
   "cell_type": "markdown",
   "id": "0310d94d-9f4a-41f1-8ea4-90f8133847f6",
   "metadata": {},
   "source": [
    "These are the steps that we have to follow to install python on windows and set path variables:\n",
    "    1. Right click on My Computer and click on properties.\n",
    "    2. Click on Advanced System settings.\n",
    "    3. Click on Environment Variable tab.\n",
    "    4. Click on new tab of user variables.\n",
    "    5. Write path in variable name.\n",
    "    6. Copy the path of Python folder.\n",
    "    7. Paste path of Python in variable value.\n",
    "    8. Click on Ok button:"
   ]
  },
  {
   "cell_type": "markdown",
   "id": "543a2e22-3936-419c-934e-aa9e23497f1e",
   "metadata": {},
   "source": [
    "# Q16. Is indentation required in Python?"
   ]
  },
  {
   "cell_type": "markdown",
   "id": "b03022b3-b2f1-4354-8253-2eccc5483148",
   "metadata": {},
   "source": [
    "The first line of python code cannot have an indentation. Indentation is mandatory in python to define the blocks of statements. The number of spaces must be uniform in a block of code. It is preferred to use whitespaces instead of tabs to indent in python."
   ]
  },
  {
   "cell_type": "code",
   "execution_count": null,
   "id": "e5472806-06ef-43e6-bad7-a214981da169",
   "metadata": {},
   "outputs": [],
   "source": []
  }
 ],
 "metadata": {
  "kernelspec": {
   "display_name": "Python 3 (ipykernel)",
   "language": "python",
   "name": "python3"
  },
  "language_info": {
   "codemirror_mode": {
    "name": "ipython",
    "version": 3
   },
   "file_extension": ".py",
   "mimetype": "text/x-python",
   "name": "python",
   "nbconvert_exporter": "python",
   "pygments_lexer": "ipython3",
   "version": "3.10.8"
  }
 },
 "nbformat": 4,
 "nbformat_minor": 5
}
